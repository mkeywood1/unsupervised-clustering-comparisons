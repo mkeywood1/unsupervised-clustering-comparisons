{
 "cells": [
  {
   "cell_type": "code",
   "execution_count": 1,
   "id": "bada9e7d",
   "metadata": {},
   "outputs": [],
   "source": [
    "# !pip install stepmix"
   ]
  },
  {
   "cell_type": "code",
   "execution_count": 2,
   "id": "b7324f40",
   "metadata": {},
   "outputs": [],
   "source": [
    "import pandas as pd\n",
    "import numpy as np\n",
    "from sklearn.datasets import load_iris\n",
    "from sklearn.metrics import rand_score\n",
    "\n",
    "from stepmix.stepmix import StepMix\n",
    "\n",
    "import matplotlib.pyplot as plt\n",
    "%matplotlib inline"
   ]
  },
  {
   "cell_type": "code",
   "execution_count": 3,
   "id": "0cca4a1a",
   "metadata": {
    "scrolled": true
   },
   "outputs": [
    {
     "name": "stdout",
     "output_type": "stream",
     "text": [
      "0.9267114093959732\n"
     ]
    }
   ],
   "source": [
    "# Load dataset in a Dataframe\n",
    "data_continuous, target = load_iris(return_X_y=True, as_frame=True)\n",
    "\n",
    "# Continuous StepMix Model with 3 latent classes\n",
    "model = StepMix(n_components=3, measurement=\"continuous\", verbose=0, progress_bar=0, random_state=123)\n",
    "\n",
    "# Fit model and predict clusters\n",
    "model.fit(data_continuous)\n",
    "pred_continuous = model.predict(data_continuous)\n",
    "\n",
    "# A Rand score close to 1 indicates good alignment between clusters and flower types\n",
    "print(rand_score(pred_continuous, target))"
   ]
  },
  {
   "cell_type": "code",
   "execution_count": 4,
   "id": "3b50afcf",
   "metadata": {
    "scrolled": true
   },
   "outputs": [
    {
     "name": "stdout",
     "output_type": "stream",
     "text": [
      "       hair_color eye_color skin_color\n",
      "person                                \n",
      "P1         blonde     amber       fair\n",
      "P2       brunette      gray      brown\n",
      "P3            red     green      brown\n",
      "P4          black     hazel      brown\n",
      "P5       brunette     amber       fair\n",
      "P6          black      gray      brown\n",
      "P7            red     green       fair\n",
      "P8          black     hazel       fair\n"
     ]
    }
   ],
   "source": [
    "# Create toy dataset\n",
    "hair_color = np.array(['blonde', 'brunette', 'red', 'black', 'brunette', 'black', 'red', 'black'])\n",
    "eye_color = np.array(['amber', 'gray', 'green', 'hazel', 'amber', 'gray', 'green', 'hazel'])\n",
    "skin_color = np.array(['fair', 'brown', 'brown', 'brown', 'fair', 'brown', 'fair', 'fair'])\n",
    "person = ['P1','P2','P3','P4','P5','P6','P7','P8']\n",
    "data = pd.DataFrame({'person':person, 'hair_color':hair_color, 'eye_color':eye_color, 'skin_color':skin_color})\n",
    "data = data.set_index('person')\n",
    "print(data)"
   ]
  },
  {
   "cell_type": "code",
   "execution_count": 5,
   "id": "1265808b",
   "metadata": {},
   "outputs": [
    {
     "data": {
      "text/html": [
       "<div>\n",
       "<style scoped>\n",
       "    .dataframe tbody tr th:only-of-type {\n",
       "        vertical-align: middle;\n",
       "    }\n",
       "\n",
       "    .dataframe tbody tr th {\n",
       "        vertical-align: top;\n",
       "    }\n",
       "\n",
       "    .dataframe thead th {\n",
       "        text-align: right;\n",
       "    }\n",
       "</style>\n",
       "<table border=\"1\" class=\"dataframe\">\n",
       "  <thead>\n",
       "    <tr style=\"text-align: right;\">\n",
       "      <th></th>\n",
       "      <th>hair_color_black</th>\n",
       "      <th>hair_color_blonde</th>\n",
       "      <th>hair_color_brunette</th>\n",
       "      <th>hair_color_red</th>\n",
       "      <th>eye_color_amber</th>\n",
       "      <th>eye_color_gray</th>\n",
       "      <th>eye_color_green</th>\n",
       "      <th>eye_color_hazel</th>\n",
       "      <th>skin_color_brown</th>\n",
       "      <th>skin_color_fair</th>\n",
       "    </tr>\n",
       "    <tr>\n",
       "      <th>person</th>\n",
       "      <th></th>\n",
       "      <th></th>\n",
       "      <th></th>\n",
       "      <th></th>\n",
       "      <th></th>\n",
       "      <th></th>\n",
       "      <th></th>\n",
       "      <th></th>\n",
       "      <th></th>\n",
       "      <th></th>\n",
       "    </tr>\n",
       "  </thead>\n",
       "  <tbody>\n",
       "    <tr>\n",
       "      <th>P1</th>\n",
       "      <td>False</td>\n",
       "      <td>True</td>\n",
       "      <td>False</td>\n",
       "      <td>False</td>\n",
       "      <td>True</td>\n",
       "      <td>False</td>\n",
       "      <td>False</td>\n",
       "      <td>False</td>\n",
       "      <td>False</td>\n",
       "      <td>True</td>\n",
       "    </tr>\n",
       "    <tr>\n",
       "      <th>P2</th>\n",
       "      <td>False</td>\n",
       "      <td>False</td>\n",
       "      <td>True</td>\n",
       "      <td>False</td>\n",
       "      <td>False</td>\n",
       "      <td>True</td>\n",
       "      <td>False</td>\n",
       "      <td>False</td>\n",
       "      <td>True</td>\n",
       "      <td>False</td>\n",
       "    </tr>\n",
       "    <tr>\n",
       "      <th>P3</th>\n",
       "      <td>False</td>\n",
       "      <td>False</td>\n",
       "      <td>False</td>\n",
       "      <td>True</td>\n",
       "      <td>False</td>\n",
       "      <td>False</td>\n",
       "      <td>True</td>\n",
       "      <td>False</td>\n",
       "      <td>True</td>\n",
       "      <td>False</td>\n",
       "    </tr>\n",
       "    <tr>\n",
       "      <th>P4</th>\n",
       "      <td>True</td>\n",
       "      <td>False</td>\n",
       "      <td>False</td>\n",
       "      <td>False</td>\n",
       "      <td>False</td>\n",
       "      <td>False</td>\n",
       "      <td>False</td>\n",
       "      <td>True</td>\n",
       "      <td>True</td>\n",
       "      <td>False</td>\n",
       "    </tr>\n",
       "    <tr>\n",
       "      <th>P5</th>\n",
       "      <td>False</td>\n",
       "      <td>False</td>\n",
       "      <td>True</td>\n",
       "      <td>False</td>\n",
       "      <td>True</td>\n",
       "      <td>False</td>\n",
       "      <td>False</td>\n",
       "      <td>False</td>\n",
       "      <td>False</td>\n",
       "      <td>True</td>\n",
       "    </tr>\n",
       "    <tr>\n",
       "      <th>P6</th>\n",
       "      <td>True</td>\n",
       "      <td>False</td>\n",
       "      <td>False</td>\n",
       "      <td>False</td>\n",
       "      <td>False</td>\n",
       "      <td>True</td>\n",
       "      <td>False</td>\n",
       "      <td>False</td>\n",
       "      <td>True</td>\n",
       "      <td>False</td>\n",
       "    </tr>\n",
       "    <tr>\n",
       "      <th>P7</th>\n",
       "      <td>False</td>\n",
       "      <td>False</td>\n",
       "      <td>False</td>\n",
       "      <td>True</td>\n",
       "      <td>False</td>\n",
       "      <td>False</td>\n",
       "      <td>True</td>\n",
       "      <td>False</td>\n",
       "      <td>False</td>\n",
       "      <td>True</td>\n",
       "    </tr>\n",
       "    <tr>\n",
       "      <th>P8</th>\n",
       "      <td>True</td>\n",
       "      <td>False</td>\n",
       "      <td>False</td>\n",
       "      <td>False</td>\n",
       "      <td>False</td>\n",
       "      <td>False</td>\n",
       "      <td>False</td>\n",
       "      <td>True</td>\n",
       "      <td>False</td>\n",
       "      <td>True</td>\n",
       "    </tr>\n",
       "  </tbody>\n",
       "</table>\n",
       "</div>"
      ],
      "text/plain": [
       "        hair_color_black  hair_color_blonde  hair_color_brunette  \\\n",
       "person                                                             \n",
       "P1                 False               True                False   \n",
       "P2                 False              False                 True   \n",
       "P3                 False              False                False   \n",
       "P4                  True              False                False   \n",
       "P5                 False              False                 True   \n",
       "P6                  True              False                False   \n",
       "P7                 False              False                False   \n",
       "P8                  True              False                False   \n",
       "\n",
       "        hair_color_red  eye_color_amber  eye_color_gray  eye_color_green  \\\n",
       "person                                                                     \n",
       "P1               False             True           False            False   \n",
       "P2               False            False            True            False   \n",
       "P3                True            False           False             True   \n",
       "P4               False            False           False            False   \n",
       "P5               False             True           False            False   \n",
       "P6               False            False            True            False   \n",
       "P7                True            False           False             True   \n",
       "P8               False            False           False            False   \n",
       "\n",
       "        eye_color_hazel  skin_color_brown  skin_color_fair  \n",
       "person                                                      \n",
       "P1                False             False             True  \n",
       "P2                False              True            False  \n",
       "P3                False              True            False  \n",
       "P4                 True              True            False  \n",
       "P5                False             False             True  \n",
       "P6                False              True            False  \n",
       "P7                False             False             True  \n",
       "P8                 True             False             True  "
      ]
     },
     "execution_count": 5,
     "metadata": {},
     "output_type": "execute_result"
    }
   ],
   "source": [
    "pd.get_dummies(data)"
   ]
  },
  {
   "cell_type": "code",
   "execution_count": 6,
   "id": "58437ba7",
   "metadata": {},
   "outputs": [],
   "source": [
    "# Continuous StepMix Model with 3 latent classes\n",
    "model = StepMix(n_components=4, measurement=\"categorical\", verbose=0, progress_bar=0, random_state=123)\n",
    "\n",
    "# Fit model and predict clusters\n",
    "model.fit(pd.get_dummies(data))\n",
    "clusters = model.predict(pd.get_dummies(data))"
   ]
  },
  {
   "cell_type": "code",
   "execution_count": 7,
   "id": "99a2984d",
   "metadata": {
    "scrolled": true
   },
   "outputs": [
    {
     "data": {
      "text/plain": [
       "(130.36141955583662, 133.77740584806958)"
      ]
     },
     "execution_count": 7,
     "metadata": {},
     "output_type": "execute_result"
    }
   ],
   "source": [
    "model.aic(pd.get_dummies(data)), model.bic(pd.get_dummies(data))"
   ]
  },
  {
   "cell_type": "code",
   "execution_count": 8,
   "id": "109d8c38",
   "metadata": {},
   "outputs": [
    {
     "name": "stdout",
     "output_type": "stream",
     "text": [
      "================================================================================\n",
      "MODEL REPORT\n",
      "================================================================================\n",
      "    ============================================================================\n",
      "    Measurement model parameters\n",
      "    ============================================================================\n",
      "        ------------------------------------------------------------------------\n",
      "        Multinoulli model with 10 features, each with up to 2 possible outcomes\n",
      "        ------------------------------------------------------------------------\n",
      "        Columns 1 to 2 are associated with the first feature,\n",
      "        columns 3 to 4 are associated with the second feature, etc.\n",
      "\n",
      "        Class 1 : [1.0000 0.0000 1.0000 0.0000 1.0000 0.0000 0.0000 1.0000 1.0000 0.0000\n",
      " 1.0000 0.0000 0.0000 1.0000 1.0000 0.0000 0.5000 0.5000 0.5000 0.5000]\n",
      "        Class 2 : [0.0000 1.0000 1.0000 0.0000 1.0000 0.0000 1.0000 0.0000 1.0000 0.0000\n",
      " 1.0000 0.0000 1.0000 0.0000 0.0000 1.0000 0.5000 0.5000 0.5000 0.5000]\n",
      "        Class 3 : [0.5000 0.5000 1.0000 0.0000 0.5000 0.5000 1.0000 0.0000 1.0000 0.0000\n",
      " 0.0000 1.0000 1.0000 0.0000 1.0000 0.0000 0.0000 1.0000 1.0000 0.0000]\n",
      "        Class 4 : [1.0000 0.0000 0.5000 0.5000 0.5000 0.5000 1.0000 0.0000 0.0000 1.0000\n",
      " 1.0000 0.0000 1.0000 0.0000 1.0000 0.0000 1.0000 0.0000 0.0000 1.0000]\n",
      "    ============================================================================\n",
      "    Class weights\n",
      "    ============================================================================\n",
      "        Class 1 : 0.25\n",
      "        Class 2 : 0.25\n",
      "        Class 3 : 0.25\n",
      "        Class 4 : 0.25\n",
      "    ============================================================================\n",
      "    Fit for 4 latent classes\n",
      "    ============================================================================\n",
      "    Estimation method             : 1-step\n",
      "    Number of observations        : 8\n",
      "    Number of latent classes      : 4\n",
      "    Number of estimated parameters: 43\n",
      "    Log-likelihood (LL)           : -22.1807\n",
      "    -2LL                          : 44.3614\n",
      "    Average LL                    : -2.7726\n",
      "    AIC                           : 130.36\n",
      "    BIC                           : 133.78\n",
      "    Entropy                       : 0.0000\n",
      "    Scaled Relative Entropy       : 1.0000\n"
     ]
    }
   ],
   "source": [
    "model.report(pd.get_dummies(data))  #.get_parameters()['measurement']['pis']#.shape"
   ]
  },
  {
   "cell_type": "code",
   "execution_count": 9,
   "id": "5f67dffe",
   "metadata": {},
   "outputs": [
    {
     "data": {
      "text/plain": [
       "array(['hair_color_black', 'hair_color_blonde', 'hair_color_brunette',\n",
       "       'hair_color_red', 'eye_color_amber', 'eye_color_gray',\n",
       "       'eye_color_green', 'eye_color_hazel', 'skin_color_brown',\n",
       "       'skin_color_fair'], dtype=object)"
      ]
     },
     "execution_count": 9,
     "metadata": {},
     "output_type": "execute_result"
    }
   ],
   "source": [
    "model.feature_names_in_"
   ]
  },
  {
   "cell_type": "code",
   "execution_count": 10,
   "id": "0d522e89",
   "metadata": {
    "scrolled": true
   },
   "outputs": [
    {
     "name": "stdout",
     "output_type": "stream",
     "text": [
      "[0.999999999999999, 0.999999999999999, 0.999999999999999, 1e-15, 0.999999999999999, 0.999999999999999, 1e-15, 0.999999999999999, 0.5, 0.5]\n",
      "[1e-15, 0.999999999999999, 0.999999999999999, 0.999999999999999, 0.999999999999999, 0.999999999999999, 0.999999999999999, 1e-15, 0.5, 0.5]\n",
      "[0.5, 0.999999999999999, 0.5, 0.999999999999999, 0.999999999999999, 1e-15, 0.999999999999999, 0.999999999999999, 1e-15, 0.999999999999999]\n",
      "[0.999999999999999, 0.5, 0.5, 0.999999999999999, 1e-15, 0.999999999999999, 0.999999999999999, 0.999999999999999, 0.999999999999999, 1e-15]\n"
     ]
    }
   ],
   "source": [
    "for values in model.get_parameters()['measurement']['pis']:\n",
    "    print(list(values)[::2])"
   ]
  },
  {
   "cell_type": "code",
   "execution_count": 11,
   "id": "71a4afa1",
   "metadata": {},
   "outputs": [
    {
     "data": {
      "image/png": "[encoded data removed]",
      "text/plain": [
       "<Figure size 640x480 with 1 Axes>"
      ]
     },
     "metadata": {},
     "output_type": "display_data"
    }
   ],
   "source": [
    "import matplotlib.pyplot as plt\n",
    "import numpy as np\n",
    "\n",
    "x_range = range(int(model.get_parameters()['measurement']['total_outcomes']  / 2))\n",
    "\n",
    "for i, values in enumerate(model.get_parameters()['measurement']['pis']):\n",
    "    plt.plot(x_range, np.array(list(values)[::2]), label=f'Class {i}')  \n",
    "\n",
    "# Add grid lines \n",
    "#plt.grid(True)  \n",
    "\n",
    "# Add a legend\n",
    "plt.legend()  \n",
    "\n",
    "# Add the ticks\n",
    "plt.xticks([1, 2, 3, 4, 5, 6, 7, 8, 9, 10], ['a', 'b', 'c', 'd', 'e', 'f', 'g', 'h', 'i', 'j'], \n",
    "           rotation=90)#, fontsize=8, ha='right', va='bottom')\n",
    "\n",
    "# Add x-axis and y-axis labels\n",
    "plt.xlabel('x-axis')\n",
    "plt.ylabel('y-axis') \n",
    "\n",
    "# Function to show plot \n",
    "plt.show()"
   ]
  },
  {
   "cell_type": "code",
   "execution_count": 14,
   "id": "5c040e27",
   "metadata": {},
   "outputs": [
    {
     "data": {
      "text/html": [
       "<div>\n",
       "<style scoped>\n",
       "    .dataframe tbody tr th:only-of-type {\n",
       "        vertical-align: middle;\n",
       "    }\n",
       "\n",
       "    .dataframe tbody tr th {\n",
       "        vertical-align: top;\n",
       "    }\n",
       "\n",
       "    .dataframe thead th {\n",
       "        text-align: right;\n",
       "    }\n",
       "</style>\n",
       "<table border=\"1\" class=\"dataframe\">\n",
       "  <thead>\n",
       "    <tr style=\"text-align: right;\">\n",
       "      <th></th>\n",
       "      <th>Cluster</th>\n",
       "      <th>hair_color</th>\n",
       "      <th>eye_color</th>\n",
       "      <th>skin_color</th>\n",
       "    </tr>\n",
       "    <tr>\n",
       "      <th>person</th>\n",
       "      <th></th>\n",
       "      <th></th>\n",
       "      <th></th>\n",
       "      <th></th>\n",
       "    </tr>\n",
       "  </thead>\n",
       "  <tbody>\n",
       "    <tr>\n",
       "      <th>P1</th>\n",
       "      <td>3</td>\n",
       "      <td>blonde</td>\n",
       "      <td>amber</td>\n",
       "      <td>fair</td>\n",
       "    </tr>\n",
       "    <tr>\n",
       "      <th>P2</th>\n",
       "      <td>2</td>\n",
       "      <td>brunette</td>\n",
       "      <td>gray</td>\n",
       "      <td>brown</td>\n",
       "    </tr>\n",
       "    <tr>\n",
       "      <th>P3</th>\n",
       "      <td>0</td>\n",
       "      <td>red</td>\n",
       "      <td>green</td>\n",
       "      <td>brown</td>\n",
       "    </tr>\n",
       "    <tr>\n",
       "      <th>P4</th>\n",
       "      <td>1</td>\n",
       "      <td>black</td>\n",
       "      <td>hazel</td>\n",
       "      <td>brown</td>\n",
       "    </tr>\n",
       "    <tr>\n",
       "      <th>P5</th>\n",
       "      <td>3</td>\n",
       "      <td>brunette</td>\n",
       "      <td>amber</td>\n",
       "      <td>fair</td>\n",
       "    </tr>\n",
       "    <tr>\n",
       "      <th>P6</th>\n",
       "      <td>2</td>\n",
       "      <td>black</td>\n",
       "      <td>gray</td>\n",
       "      <td>brown</td>\n",
       "    </tr>\n",
       "    <tr>\n",
       "      <th>P7</th>\n",
       "      <td>0</td>\n",
       "      <td>red</td>\n",
       "      <td>green</td>\n",
       "      <td>fair</td>\n",
       "    </tr>\n",
       "    <tr>\n",
       "      <th>P8</th>\n",
       "      <td>1</td>\n",
       "      <td>black</td>\n",
       "      <td>hazel</td>\n",
       "      <td>fair</td>\n",
       "    </tr>\n",
       "  </tbody>\n",
       "</table>\n",
       "</div>"
      ],
      "text/plain": [
       "        Cluster hair_color eye_color skin_color\n",
       "person                                         \n",
       "P1            3     blonde     amber       fair\n",
       "P2            2   brunette      gray      brown\n",
       "P3            0        red     green      brown\n",
       "P4            1      black     hazel      brown\n",
       "P5            3   brunette     amber       fair\n",
       "P6            2      black      gray      brown\n",
       "P7            0        red     green       fair\n",
       "P8            1      black     hazel       fair"
      ]
     },
     "execution_count": 14,
     "metadata": {},
     "output_type": "execute_result"
    }
   ],
   "source": [
    "data.insert(0, \"Cluster\", clusters, True)\n",
    "data"
   ]
  },
  {
   "cell_type": "code",
   "execution_count": null,
   "id": "b1c41fdb",
   "metadata": {},
   "outputs": [],
   "source": []
  }
 ],
 "metadata": {
  "kernelspec": {
   "display_name": "Python 3 (ipykernel)",
   "language": "python",
   "name": "python3"
  },
  "language_info": {
   "codemirror_mode": {
    "name": "ipython",
    "version": 3
   },
   "file_extension": ".py",
   "mimetype": "text/x-python",
   "name": "python",
   "nbconvert_exporter": "python",
   "pygments_lexer": "ipython3",
   "version": "3.9.0"
  }
 },
 "nbformat": 4,
 "nbformat_minor": 5
}
